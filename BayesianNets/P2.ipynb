{
 "cells": [
  {
   "cell_type": "code",
   "execution_count": 23,
   "metadata": {},
   "outputs": [],
   "source": [
    "from pgmpy.models import BayesianModel\n",
    "from pgmpy.factors.discrete import TabularCPD\n",
    "from pgmpy.inference import VariableElimination"
   ]
  },
  {
   "cell_type": "markdown",
   "metadata": {},
   "source": [
    "## Part 1"
   ]
  },
  {
   "cell_type": "code",
   "execution_count": 38,
   "metadata": {},
   "outputs": [],
   "source": [
    "model = BayesianModel([('F', 'G'), ('B', 'G')])"
   ]
  },
  {
   "cell_type": "code",
   "execution_count": 39,
   "metadata": {},
   "outputs": [],
   "source": [
    "cpd_b = TabularCPD(variable='B', variable_card=2, values=[[0.2, 0.8]])\n",
    "cpd_f = TabularCPD(variable='F', variable_card=2, values=[[0.1, 0.9]])\n",
    "cpd_g = TabularCPD(variable='G', variable_card=2, \n",
    "                   values=[[0.9, 0.9, 0.8, 0.1],\n",
    "                           [0.1, 0.1, 0.2,  0.9]],\n",
    "                  evidence=['F', 'B'],\n",
    "                  evidence_card=[2, 2])\n",
    "model.add_cpds(cpd_f, cpd_b, cpd_g)"
   ]
  },
  {
   "cell_type": "code",
   "execution_count": 40,
   "metadata": {},
   "outputs": [
    {
     "data": {
      "text/plain": [
       "True"
      ]
     },
     "execution_count": 40,
     "metadata": {},
     "output_type": "execute_result"
    }
   ],
   "source": [
    "model.check_model()"
   ]
  },
  {
   "cell_type": "code",
   "execution_count": 47,
   "metadata": {},
   "outputs": [
    {
     "name": "stdout",
     "output_type": "stream",
     "text": [
      "+------+------+------+------+------+\n",
      "| F    | F(0) | F(0) | F(1) | F(1) |\n",
      "+------+------+------+------+------+\n",
      "| B    | B(0) | B(1) | B(0) | B(1) |\n",
      "+------+------+------+------+------+\n",
      "| G(0) | 0.9  | 0.9  | 0.8  | 0.1  |\n",
      "+------+------+------+------+------+\n",
      "| G(1) | 0.1  | 0.1  | 0.2  | 0.9  |\n",
      "+------+------+------+------+------+\n"
     ]
    }
   ],
   "source": [
    "print(cpd_g)"
   ]
  },
  {
   "cell_type": "code",
   "execution_count": 42,
   "metadata": {},
   "outputs": [],
   "source": [
    "infer = VariableElimination(model)"
   ]
  },
  {
   "cell_type": "markdown",
   "metadata": {},
   "source": [
    "### 1c)"
   ]
  },
  {
   "cell_type": "markdown",
   "metadata": {},
   "source": [
    "#### Fuel tank is empty given fuel gauge reads empty"
   ]
  },
  {
   "cell_type": "code",
   "execution_count": 63,
   "metadata": {
    "scrolled": true
   },
   "outputs": [
    {
     "name": "stderr",
     "output_type": "stream",
     "text": [
      "Finding Elimination Order: : 100%|██████████| 1/1 [00:00<00:00, 310.16it/s]\n",
      "Eliminating: B: 100%|██████████| 1/1 [00:00<00:00, 163.80it/s]"
     ]
    },
    {
     "name": "stdout",
     "output_type": "stream",
     "text": [
      "+------+----------+\n",
      "| F    |   phi(F) |\n",
      "+======+==========+\n",
      "| F(0) |   0.2941 |\n",
      "+------+----------+\n",
      "| F(1) |   0.7059 |\n",
      "+------+----------+\n"
     ]
    },
    {
     "name": "stderr",
     "output_type": "stream",
     "text": [
      "\n"
     ]
    }
   ],
   "source": [
    "print(infer.query(['F'], evidence={'G': 0}))"
   ]
  },
  {
   "cell_type": "markdown",
   "metadata": {},
   "source": [
    "### 1d)"
   ]
  },
  {
   "cell_type": "markdown",
   "metadata": {},
   "source": [
    "#### Beliefs about fuel tank with no observations"
   ]
  },
  {
   "cell_type": "code",
   "execution_count": 66,
   "metadata": {},
   "outputs": [
    {
     "name": "stderr",
     "output_type": "stream",
     "text": [
      "Finding Elimination Order: : 100%|██████████| 2/2 [00:00<00:00, 281.45it/s]\n",
      "Eliminating: B: 100%|██████████| 2/2 [00:00<00:00, 224.22it/s]"
     ]
    },
    {
     "name": "stdout",
     "output_type": "stream",
     "text": [
      "+------+----------+\n",
      "| F    |   phi(F) |\n",
      "+======+==========+\n",
      "| F(0) |   0.1000 |\n",
      "+------+----------+\n",
      "| F(1) |   0.9000 |\n",
      "+------+----------+\n"
     ]
    },
    {
     "name": "stderr",
     "output_type": "stream",
     "text": [
      "\n"
     ]
    }
   ],
   "source": [
    "print(infer.query(['F']))"
   ]
  },
  {
   "cell_type": "markdown",
   "metadata": {},
   "source": [
    "#### Beliefs about the fuel tank given the gauge reads empty"
   ]
  },
  {
   "cell_type": "code",
   "execution_count": 67,
   "metadata": {},
   "outputs": [
    {
     "name": "stderr",
     "output_type": "stream",
     "text": [
      "Finding Elimination Order: : 100%|██████████| 1/1 [00:00<00:00, 337.71it/s]\n",
      "Eliminating: B: 100%|██████████| 1/1 [00:00<00:00, 226.19it/s]"
     ]
    },
    {
     "name": "stdout",
     "output_type": "stream",
     "text": [
      "+------+----------+\n",
      "| F    |   phi(F) |\n",
      "+======+==========+\n",
      "| F(0) |   0.2941 |\n",
      "+------+----------+\n",
      "| F(1) |   0.7059 |\n",
      "+------+----------+\n"
     ]
    },
    {
     "name": "stderr",
     "output_type": "stream",
     "text": [
      "\n"
     ]
    }
   ],
   "source": [
    "print(infer.query(['F'], evidence={'G': 0}))"
   ]
  },
  {
   "cell_type": "markdown",
   "metadata": {},
   "source": [
    "#### Beliefs about the fuel tank given gauge reads empty and the battery is dead"
   ]
  },
  {
   "cell_type": "code",
   "execution_count": 71,
   "metadata": {},
   "outputs": [
    {
     "name": "stderr",
     "output_type": "stream",
     "text": [
      "Finding Elimination Order: : : 0it [00:00, ?it/s]\n",
      "0it [00:00, ?it/s]"
     ]
    },
    {
     "name": "stdout",
     "output_type": "stream",
     "text": [
      "+------+----------+\n",
      "| F    |   phi(F) |\n",
      "+======+==========+\n",
      "| F(0) |   0.1111 |\n",
      "+------+----------+\n",
      "| F(1) |   0.8889 |\n",
      "+------+----------+\n"
     ]
    },
    {
     "name": "stderr",
     "output_type": "stream",
     "text": [
      "\n"
     ]
    }
   ],
   "source": [
    "print(infer.query(['F'], evidence={'G': 0, 'B': 0}))"
   ]
  },
  {
   "cell_type": "markdown",
   "metadata": {},
   "source": [
    "## 1f)"
   ]
  },
  {
   "cell_type": "markdown",
   "metadata": {},
   "source": [
    "#### Belief about fuel tank given battery is dead"
   ]
  },
  {
   "cell_type": "code",
   "execution_count": 88,
   "metadata": {},
   "outputs": [
    {
     "name": "stderr",
     "output_type": "stream",
     "text": [
      "Finding Elimination Order: : 100%|██████████| 1/1 [00:00<00:00, 285.72it/s]\n",
      "Eliminating: G: 100%|██████████| 1/1 [00:00<00:00, 298.78it/s]"
     ]
    },
    {
     "name": "stdout",
     "output_type": "stream",
     "text": [
      "+------+----------+\n",
      "| F    |   phi(F) |\n",
      "+======+==========+\n",
      "| F(0) |   0.1000 |\n",
      "+------+----------+\n",
      "| F(1) |   0.9000 |\n",
      "+------+----------+\n"
     ]
    },
    {
     "name": "stderr",
     "output_type": "stream",
     "text": [
      "\n"
     ]
    }
   ],
   "source": [
    "print(infer.query(['F'], evidence={'B': 0}))"
   ]
  },
  {
   "cell_type": "code",
   "execution_count": null,
   "metadata": {},
   "outputs": [],
   "source": []
  },
  {
   "cell_type": "markdown",
   "metadata": {},
   "source": [
    "## Part 2"
   ]
  },
  {
   "cell_type": "code",
   "execution_count": 242,
   "metadata": {},
   "outputs": [],
   "source": [
    "model = BayesianModel([('S', 'G'), ('R', 'G'), ('R', 'J')])\n",
    "cpd_r = TabularCPD(variable='R', variable_card=2, values=[[0.8, 0.2]])\n",
    "cpd_s = TabularCPD(variable='S', variable_card=2, values=[[0.9, 0.1]])\n",
    "cpd_g = TabularCPD(variable='G', variable_card=2, \n",
    "                   values=[[1, 0.05, 0, 0],\n",
    "                           [0, 0.95, 1, 1]],\n",
    "                  evidence=['R', 'S'],\n",
    "                  evidence_card=[2, 2])\n",
    "cpd_j = TabularCPD(variable='J', variable_card=2, \n",
    "                   values=[[.85, 0],\n",
    "                           [.15, 1]],\n",
    "                  evidence=['R'],\n",
    "                  evidence_card=[2])\n",
    "\n",
    "model.add_cpds(cpd_r, cpd_s, cpd_g, cpd_j)"
   ]
  },
  {
   "cell_type": "code",
   "execution_count": 243,
   "metadata": {},
   "outputs": [
    {
     "data": {
      "text/plain": [
       "True"
      ]
     },
     "execution_count": 243,
     "metadata": {},
     "output_type": "execute_result"
    }
   ],
   "source": [
    "model.check_model()"
   ]
  },
  {
   "cell_type": "code",
   "execution_count": 147,
   "metadata": {},
   "outputs": [
    {
     "name": "stdout",
     "output_type": "stream",
     "text": [
      "+------+------+------+------+------+\n",
      "| R    | R(0) | R(0) | R(1) | R(1) |\n",
      "+------+------+------+------+------+\n",
      "| S    | S(0) | S(1) | S(0) | S(1) |\n",
      "+------+------+------+------+------+\n",
      "| G(0) | 1.0  | 0.05 | 0.0  | 0.0  |\n",
      "+------+------+------+------+------+\n",
      "| G(1) | 0.0  | 0.95 | 1.0  | 1.0  |\n",
      "+------+------+------+------+------+\n"
     ]
    }
   ],
   "source": [
    "print(cpd_g)"
   ]
  },
  {
   "cell_type": "code",
   "execution_count": 140,
   "metadata": {},
   "outputs": [
    {
     "name": "stdout",
     "output_type": "stream",
     "text": [
      "+------+------+------+\n",
      "| R    | R(0) | R(1) |\n",
      "+------+------+------+\n",
      "| J(0) | 0.85 | 0.0  |\n",
      "+------+------+------+\n",
      "| J(1) | 0.15 | 1.0  |\n",
      "+------+------+------+\n"
     ]
    }
   ],
   "source": [
    "print(cpd_j)"
   ]
  },
  {
   "cell_type": "code",
   "execution_count": 244,
   "metadata": {},
   "outputs": [],
   "source": [
    "infer = VariableElimination(model)"
   ]
  },
  {
   "cell_type": "markdown",
   "metadata": {},
   "source": [
    "## 2d)"
   ]
  },
  {
   "cell_type": "code",
   "execution_count": 149,
   "metadata": {},
   "outputs": [
    {
     "name": "stderr",
     "output_type": "stream",
     "text": [
      "Finding Elimination Order: : 100%|██████████| 2/2 [00:00<00:00, 544.82it/s]\n",
      "Eliminating: J: 100%|██████████| 2/2 [00:00<00:00, 314.57it/s]"
     ]
    },
    {
     "name": "stdout",
     "output_type": "stream",
     "text": [
      "+------+----------+\n",
      "| R    |   phi(R) |\n",
      "+======+==========+\n",
      "| R(0) |   0.2754 |\n",
      "+------+----------+\n",
      "| R(1) |   0.7246 |\n",
      "+------+----------+\n"
     ]
    },
    {
     "name": "stderr",
     "output_type": "stream",
     "text": [
      "\n"
     ]
    }
   ],
   "source": [
    "print(infer.query(['R'], evidence={'G': 1}))"
   ]
  },
  {
   "cell_type": "code",
   "execution_count": 150,
   "metadata": {},
   "outputs": [
    {
     "name": "stderr",
     "output_type": "stream",
     "text": [
      "Finding Elimination Order: : 100%|██████████| 2/2 [00:00<00:00, 1060.51it/s]\n",
      "Eliminating: R: 100%|██████████| 2/2 [00:00<00:00, 312.60it/s]"
     ]
    },
    {
     "name": "stdout",
     "output_type": "stream",
     "text": [
      "+------+----------+\n",
      "| S    |   phi(S) |\n",
      "+======+==========+\n",
      "| S(0) |   0.6522 |\n",
      "+------+----------+\n",
      "| S(1) |   0.3478 |\n",
      "+------+----------+\n"
     ]
    },
    {
     "name": "stderr",
     "output_type": "stream",
     "text": [
      "\n"
     ]
    }
   ],
   "source": [
    "print(infer.query(['S'], evidence={'G': 1}))"
   ]
  },
  {
   "cell_type": "code",
   "execution_count": 202,
   "metadata": {},
   "outputs": [
    {
     "name": "stderr",
     "output_type": "stream",
     "text": [
      "Finding Elimination Order: : 100%|██████████| 1/1 [00:00<00:00, 339.45it/s]\n",
      "Eliminating: R: 100%|██████████| 1/1 [00:00<00:00, 184.54it/s]"
     ]
    },
    {
     "name": "stdout",
     "output_type": "stream",
     "text": [
      "+------+----------+\n",
      "| S    |   phi(S) |\n",
      "+======+==========+\n",
      "| S(0) |   0.8515 |\n",
      "+------+----------+\n",
      "| S(1) |   0.1485 |\n",
      "+------+----------+\n"
     ]
    },
    {
     "name": "stderr",
     "output_type": "stream",
     "text": [
      "\n"
     ]
    }
   ],
   "source": [
    "print(infer.query(['S'], evidence={'G': 1, 'J': 1}))"
   ]
  },
  {
   "cell_type": "code",
   "execution_count": 245,
   "metadata": {},
   "outputs": [
    {
     "name": "stderr",
     "output_type": "stream",
     "text": [
      "Finding Elimination Order: : 100%|██████████| 1/1 [00:00<00:00, 384.66it/s]\n",
      "Eliminating: R: 100%|██████████| 1/1 [00:00<00:00, 127.68it/s]"
     ]
    },
    {
     "name": "stdout",
     "output_type": "stream",
     "text": [
      "+------+----------+\n",
      "| S    |   phi(S) |\n",
      "+======+==========+\n",
      "| S(0) |   0.8515 |\n",
      "+------+----------+\n",
      "| S(1) |   0.1485 |\n",
      "+------+----------+\n"
     ]
    },
    {
     "name": "stderr",
     "output_type": "stream",
     "text": [
      "\n"
     ]
    }
   ],
   "source": [
    "print(infer.query(['S'], evidence={'G': 1, 'J': 1}))"
   ]
  },
  {
   "cell_type": "markdown",
   "metadata": {},
   "source": [
    "## Extra Credit"
   ]
  },
  {
   "cell_type": "code",
   "execution_count": 208,
   "metadata": {},
   "outputs": [],
   "source": [
    "model = BayesianModel([('E', 'S'), ('G', 'S'), ('M', 'S')])\n",
    "cpd_e = TabularCPD(variable='E', variable_card=2, values=[[0.4, 0.6]])\n",
    "cpd_g = TabularCPD(variable='G', variable_card=3, values=[[0.3, 0.6, 0.1]])\n",
    "cpd_m = TabularCPD(variable='M', variable_card=2, values=[[0.7, 0.3]])\n",
    "cpd_s = TabularCPD(variable='S', variable_card=2, \n",
    "                   values=[[0.85, 0.95, 0.75, 0.85, 0.4, 0.5, 0.65, 0.85, 0.5, 0.7, 0.2, 0.4],\n",
    "                          [0.15, 0.05, 0.25, 0.15, 0.6, 0.5, 0.35, 0.15, 0.5, 0.3, 0.8, 0.6]],\n",
    "                  evidence=['E', 'G', 'M'],\n",
    "                  evidence_card=[2, 3, 2])\n",
    "\n",
    "model.add_cpds(cpd_e, cpd_g, cpd_m, cpd_s)"
   ]
  },
  {
   "cell_type": "code",
   "execution_count": 216,
   "metadata": {},
   "outputs": [
    {
     "data": {
      "text/plain": [
       "True"
      ]
     },
     "execution_count": 216,
     "metadata": {},
     "output_type": "execute_result"
    }
   ],
   "source": [
    "model.check_model()"
   ]
  },
  {
   "cell_type": "code",
   "execution_count": 209,
   "metadata": {},
   "outputs": [
    {
     "name": "stdout",
     "output_type": "stream",
     "text": [
      "+------+------+------+------+------+------+------+------+------+------+------+------+------+\n",
      "| E    | E(0) | E(0) | E(0) | E(0) | E(0) | E(0) | E(1) | E(1) | E(1) | E(1) | E(1) | E(1) |\n",
      "+------+------+------+------+------+------+------+------+------+------+------+------+------+\n",
      "| G    | G(0) | G(0) | G(1) | G(1) | G(2) | G(2) | G(0) | G(0) | G(1) | G(1) | G(2) | G(2) |\n",
      "+------+------+------+------+------+------+------+------+------+------+------+------+------+\n",
      "| M    | M(0) | M(1) | M(0) | M(1) | M(0) | M(1) | M(0) | M(1) | M(0) | M(1) | M(0) | M(1) |\n",
      "+------+------+------+------+------+------+------+------+------+------+------+------+------+\n",
      "| S(0) | 0.85 | 0.95 | 0.75 | 0.85 | 0.4  | 0.5  | 0.65 | 0.85 | 0.5  | 0.7  | 0.2  | 0.4  |\n",
      "+------+------+------+------+------+------+------+------+------+------+------+------+------+\n",
      "| S(1) | 0.15 | 0.05 | 0.25 | 0.15 | 0.6  | 0.5  | 0.35 | 0.15 | 0.5  | 0.3  | 0.8  | 0.6  |\n",
      "+------+------+------+------+------+------+------+------+------+------+------+------+------+\n"
     ]
    }
   ],
   "source": [
    "print(cpd_s)"
   ]
  },
  {
   "cell_type": "code",
   "execution_count": 218,
   "metadata": {},
   "outputs": [],
   "source": [
    "infer = VariableElimination(model)"
   ]
  },
  {
   "cell_type": "code",
   "execution_count": 226,
   "metadata": {},
   "outputs": [
    {
     "name": "stderr",
     "output_type": "stream",
     "text": [
      "Finding Elimination Order: : 100%|██████████| 1/1 [00:00<00:00, 221.67it/s]\n",
      "Eliminating: M: 100%|██████████| 1/1 [00:00<00:00, 255.50it/s]"
     ]
    },
    {
     "name": "stdout",
     "output_type": "stream",
     "text": [
      "+------+----------+\n",
      "| S    |   phi(S) |\n",
      "+======+==========+\n",
      "| S(0) |   0.2600 |\n",
      "+------+----------+\n",
      "| S(1) |   0.7400 |\n",
      "+------+----------+\n"
     ]
    },
    {
     "name": "stderr",
     "output_type": "stream",
     "text": [
      "\n"
     ]
    }
   ],
   "source": [
    "print(infer.query(['S'], evidence={'E': 1, 'G': 2}))"
   ]
  },
  {
   "cell_type": "code",
   "execution_count": 235,
   "metadata": {},
   "outputs": [
    {
     "name": "stderr",
     "output_type": "stream",
     "text": [
      "Finding Elimination Order: : 100%|██████████| 1/1 [00:00<00:00, 258.51it/s]\n",
      "Eliminating: M: 100%|██████████| 1/1 [00:00<00:00, 117.01it/s]"
     ]
    },
    {
     "name": "stdout",
     "output_type": "stream",
     "text": [
      "+------+------+------------+\n",
      "| G    | E    |   phi(G,E) |\n",
      "+======+======+============+\n",
      "| G(0) | E(0) |     0.0417 |\n",
      "+------+------+------------+\n",
      "| G(0) | E(1) |     0.1513 |\n",
      "+------+------+------------+\n",
      "| G(1) | E(0) |     0.1530 |\n",
      "+------+------+------------+\n",
      "| G(1) | E(1) |     0.4591 |\n",
      "+------+------+------------+\n",
      "| G(2) | E(0) |     0.0661 |\n",
      "+------+------+------------+\n",
      "| G(2) | E(1) |     0.1287 |\n",
      "+------+------+------------+\n"
     ]
    },
    {
     "name": "stderr",
     "output_type": "stream",
     "text": [
      "\n"
     ]
    }
   ],
   "source": [
    "print(infer.query(['E', 'G'], evidence={'S': 1}))"
   ]
  }
 ],
 "metadata": {
  "kernelspec": {
   "display_name": "Python 3",
   "language": "python",
   "name": "python3"
  },
  "language_info": {
   "codemirror_mode": {
    "name": "ipython",
    "version": 3
   },
   "file_extension": ".py",
   "mimetype": "text/x-python",
   "name": "python",
   "nbconvert_exporter": "python",
   "pygments_lexer": "ipython3",
   "version": "3.7.3"
  }
 },
 "nbformat": 4,
 "nbformat_minor": 2
}
